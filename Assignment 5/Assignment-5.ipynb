{
 "cells": [
  {
   "cell_type": "code",
   "id": "initial_id",
   "metadata": {
    "collapsed": true,
    "ExecuteTime": {
     "end_time": "2024-09-06T05:07:33.355704Z",
     "start_time": "2024-09-06T05:07:33.351174Z"
    }
   },
   "source": [
    "import numpy as np\n",
    "from sklearn import datasets\n",
    "from sklearn.preprocessing import StandardScaler\n",
    "from sklearn.model_selection import train_test_split\n",
    "from scipy.special import softmax"
   ],
   "outputs": [],
   "execution_count": 13
  },
  {
   "metadata": {
    "ExecuteTime": {
     "end_time": "2024-09-06T05:07:33.425328Z",
     "start_time": "2024-09-06T05:07:33.417678Z"
    }
   },
   "cell_type": "code",
   "source": [
    "bc = datasets.load_iris()\n",
    "X, y = bc.data, bc.target"
   ],
   "id": "a4a11c36508a1f07",
   "outputs": [],
   "execution_count": 14
  },
  {
   "metadata": {
    "ExecuteTime": {
     "end_time": "2024-09-06T05:07:33.451432Z",
     "start_time": "2024-09-06T05:07:33.446416Z"
    }
   },
   "cell_type": "code",
   "source": [
    "def one_hot(y, num_classes):\n",
    "    return np.eye(num_classes)[y]"
   ],
   "id": "c3494b9298eaf109",
   "outputs": [],
   "execution_count": 15
  },
  {
   "metadata": {
    "ExecuteTime": {
     "end_time": "2024-09-06T05:07:33.466714Z",
     "start_time": "2024-09-06T05:07:33.462389Z"
    }
   },
   "cell_type": "code",
   "source": [
    "def softmax(z):\n",
    "    exp_z = np.exp(z - np.max(z, axis=1, keepdims=True))\n",
    "    return exp_z / np.sum(exp_z, axis=1, keepdims=True)"
   ],
   "id": "a834dc65525502f3",
   "outputs": [],
   "execution_count": 17
  },
  {
   "metadata": {
    "ExecuteTime": {
     "end_time": "2024-09-06T05:07:33.499517Z",
     "start_time": "2024-09-06T05:07:33.495737Z"
    }
   },
   "cell_type": "code",
   "source": [
    "def cross_entropy_loss(y_true, y_pred):\n",
    "    n_samples = y_true.shape[0]\n",
    "    return -np.sum(y_true * np.log(y_pred + 1e-8)) / n_samples"
   ],
   "id": "beecec4a89249325",
   "outputs": [],
   "execution_count": 18
  },
  {
   "metadata": {
    "ExecuteTime": {
     "end_time": "2024-09-06T05:07:33.535987Z",
     "start_time": "2024-09-06T05:07:33.531541Z"
    }
   },
   "cell_type": "code",
   "source": [
    "def predict_proba(X, weights, bias):\n",
    "    linear_model = np.dot(X, weights) + bias\n",
    "    return softmax(linear_model)"
   ],
   "id": "8ec895ee553f116d",
   "outputs": [],
   "execution_count": 19
  },
  {
   "metadata": {
    "ExecuteTime": {
     "end_time": "2024-09-06T05:07:33.563846Z",
     "start_time": "2024-09-06T05:07:33.558Z"
    }
   },
   "cell_type": "code",
   "source": [
    "def predict(X, weights, bias):\n",
    "    y_pred = predict_proba(X, weights, bias)\n",
    "    return np.argmax(y_pred, axis=1)"
   ],
   "id": "97a7282e751da014",
   "outputs": [],
   "execution_count": 20
  },
  {
   "metadata": {
    "ExecuteTime": {
     "end_time": "2024-09-06T05:07:33.609349Z",
     "start_time": "2024-09-06T05:07:33.601872Z"
    }
   },
   "cell_type": "code",
   "source": [
    "class LogisticRegression:\n",
    "    def __init__(self, lr=0.01, num_epochs=1000, num_classes=3):\n",
    "        self.lr = lr\n",
    "        self.num_epochs = num_epochs\n",
    "        self.num_classes = num_classes\n",
    "        self.weights = None\n",
    "        self.bias = None\n",
    "\n",
    "    def fit(self, X, y):\n",
    "        n_samples, n_features = X.shape\n",
    "        y_one_hot = one_hot(y, self.num_classes)\n",
    "\n",
    "        self.weights = np.zeros((n_features, self.num_classes))\n",
    "        self.bias = np.zeros((1, self.num_classes))\n",
    "\n",
    "        for epoch in range(self.num_epochs):\n",
    "            y_pred = predict_proba(X, self.weights, self.bias)\n",
    "            loss = cross_entropy_loss(y_one_hot, y_pred)\n",
    "\n",
    "            dw = (1 / n_samples) * np.dot(X.T, (y_pred - y_one_hot))\n",
    "            db = (1 / n_samples) * np.sum(y_pred - y_one_hot, axis=0)\n",
    "            \n",
    "            self.weights -= self.lr * dw\n",
    "            self.bias -= self.lr * db\n",
    "            \n",
    "            if (epoch + 1) % 100 == 0:\n",
    "                print(f'Epoch: {epoch+1}, Loss: {loss:.4f}')\n",
    "\n",
    "    def evaluate(self, X, y):\n",
    "        y_pred = predict(X, self.weights, self.bias)\n",
    "        accuracy = np.mean(y_pred == y)\n",
    "        return accuracy"
   ],
   "id": "11bd6d1e5bda379e",
   "outputs": [],
   "execution_count": 21
  },
  {
   "metadata": {
    "ExecuteTime": {
     "end_time": "2024-09-06T05:07:33.683265Z",
     "start_time": "2024-09-06T05:07:33.611369Z"
    }
   },
   "cell_type": "code",
   "source": [
    "sc = StandardScaler()\n",
    "X = sc.fit_transform(X)\n",
    "X_train, X_test, y_train, y_test = train_test_split(X, y, test_size=0.2, random_state=1234)\n",
    "\n",
    "model = LogisticRegression(lr=0.1, num_epochs=1000, num_classes=3)\n",
    "\n",
    "model.fit(X_train, y_train)\n",
    "\n",
    "accuracy = model.evaluate(X_test, y_test)\n",
    "print(f'Accuracy: {accuracy * 100:.2f}%')"
   ],
   "id": "5c92ee258da17beb",
   "outputs": [
    {
     "name": "stdout",
     "output_type": "stream",
     "text": [
      "Epoch: 100, Loss: 0.3323\n",
      "Epoch: 200, Loss: 0.2676\n",
      "Epoch: 300, Loss: 0.2295\n",
      "Epoch: 400, Loss: 0.2036\n",
      "Epoch: 500, Loss: 0.1847\n",
      "Epoch: 600, Loss: 0.1703\n",
      "Epoch: 700, Loss: 0.1590\n",
      "Epoch: 800, Loss: 0.1498\n",
      "Epoch: 900, Loss: 0.1422\n",
      "Epoch: 1000, Loss: 0.1358\n",
      "Accuracy: 100.00%\n"
     ]
    }
   ],
   "execution_count": 22
  }
 ],
 "metadata": {
  "kernelspec": {
   "display_name": "Python 3",
   "language": "python",
   "name": "python3"
  },
  "language_info": {
   "codemirror_mode": {
    "name": "ipython",
    "version": 2
   },
   "file_extension": ".py",
   "mimetype": "text/x-python",
   "name": "python",
   "nbconvert_exporter": "python",
   "pygments_lexer": "ipython2",
   "version": "2.7.6"
  }
 },
 "nbformat": 4,
 "nbformat_minor": 5
}
