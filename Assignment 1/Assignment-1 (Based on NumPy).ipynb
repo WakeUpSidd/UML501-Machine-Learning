{
 "cells": [
  {
   "metadata": {},
   "cell_type": "markdown",
   "source": "Importing Numpy",
   "id": "37188386af1cd69c"
  },
  {
   "metadata": {
    "ExecuteTime": {
     "end_time": "2024-08-02T05:18:39.244304Z",
     "start_time": "2024-08-02T05:18:39.241030Z"
    }
   },
   "cell_type": "code",
   "source": "import numpy as np",
   "id": "e6c75b572608c624",
   "outputs": [],
   "execution_count": 4
  },
  {
   "metadata": {},
   "cell_type": "markdown",
   "source": [
    "Reverse the NumPy array:\n",
    "arr = np.array([1, 2, 3, 6, 4, 5])"
   ],
   "id": "8cdcb6ca879ff31b"
  },
  {
   "metadata": {
    "ExecuteTime": {
     "end_time": "2024-08-02T05:20:39.151249Z",
     "start_time": "2024-08-02T05:20:39.147771Z"
    }
   },
   "cell_type": "code",
   "source": [
    "arr = np.array([1, 2, 3, 6, 4, 5])\n",
    "rev=arr[::-1]\n",
    "print(arr)\n",
    "print(rev)"
   ],
   "id": "7c942f60521dc854",
   "outputs": [
    {
     "name": "stdout",
     "output_type": "stream",
     "text": [
      "[1 2 3 6 4 5]\n",
      "[5 4 6 3 2 1]\n"
     ]
    }
   ],
   "execution_count": 11
  },
  {
   "metadata": {},
   "cell_type": "markdown",
   "source": [
    "Flatten the NumPy arr:\n",
    "array1 = np.array([[1, 2, 3], [2, 4, 5], [1, 2, 3]]) using any two NumPy in-built methods "
   ],
   "id": "4179ff4a6229b0b1"
  },
  {
   "metadata": {
    "ExecuteTime": {
     "end_time": "2024-08-02T05:20:40.380426Z",
     "start_time": "2024-08-02T05:20:40.375582Z"
    }
   },
   "cell_type": "code",
   "source": [
    "array1 = np.array([[1, 2, 3], [2, 4, 5], [1, 2, 3]])\n",
    "\n",
    "flattened_array1 = array1.flatten()\n",
    "flattened_array2 = array1.ravel()\n",
    "\n",
    "print(flattened_array1)\n",
    "print(flattened_array2)"
   ],
   "id": "bb234b62d3f22f11",
   "outputs": [
    {
     "name": "stdout",
     "output_type": "stream",
     "text": [
      "[1 2 3 2 4 5 1 2 3]\n",
      "[1 2 3 2 4 5 1 2 3]\n"
     ]
    }
   ],
   "execution_count": 12
  },
  {
   "metadata": {},
   "cell_type": "markdown",
   "source": [
    "Compare the following numpy arrays:\n",
    "\n",
    "arr1 = np.array([[1, 2], [3, 4]])\n",
    "arr2 = np.array([[1, 2], [3, 4]])"
   ],
   "id": "42baf03b6dfb8f43"
  },
  {
   "metadata": {
    "ExecuteTime": {
     "end_time": "2024-08-02T05:20:42.263034Z",
     "start_time": "2024-08-02T05:20:42.259401Z"
    }
   },
   "cell_type": "code",
   "source": [
    "arr1 = np.array([[1, 2], [3, 4]])\n",
    "#arr2 = np.array([[1, 2], [3, 4]])\n",
    "arr2 = np.array([[1, 5], [3, 4]])\n",
    "\n",
    "if np.array_equal(arr1, arr2):\n",
    "    print(\"Arrays are Equal\")\n",
    "else:\n",
    "    print(\"Arrays are not equal\")"
   ],
   "id": "9bc97f2c175927e",
   "outputs": [
    {
     "name": "stdout",
     "output_type": "stream",
     "text": [
      "Arrays are not equal\n"
     ]
    }
   ],
   "execution_count": 13
  },
  {
   "metadata": {},
   "cell_type": "markdown",
   "source": [
    "Find the most frequent value and their indice(s) in the following arrays:\n",
    "\n",
    "i. x = np.array([1,2,3,4,5,1,2,1,1,1])\n",
    "\n",
    "ii. y = np.array([1, 1, 1, 2, 3, 4, 2, 4, 3, 3, ]) "
   ],
   "id": "da57781ecdac2ad1"
  },
  {
   "metadata": {
    "ExecuteTime": {
     "end_time": "2024-08-02T05:20:43.957404Z",
     "start_time": "2024-08-02T05:20:43.952732Z"
    }
   },
   "cell_type": "code",
   "source": [
    "x = np.array([1,2,3,4,5,1,2,1,1,1])\n",
    "y = np.array([1, 1, 1, 2, 3, 4, 2, 4, 3, 3])\n",
    "\n",
    "most_frequent_x = np.bincount(x).argmax()\n",
    "indices_x = np.where(x == most_frequent_x)\n",
    "\n",
    "most_frequent_y = np.bincount(y).argmax()\n",
    "indices_y = np.where(y == most_frequent_y)\n",
    "\n",
    "print(f'Most Frequent in X: {most_frequent_x}, Indices: {indices_x}')\n",
    "print(f'Most Frequent in Y: {most_frequent_y}, Indices: {indices_y}')"
   ],
   "id": "7bb51386fe33d088",
   "outputs": [
    {
     "name": "stdout",
     "output_type": "stream",
     "text": [
      "Most Frequent in X: 1, Indices: (array([0, 5, 7, 8, 9], dtype=int64),)\n",
      "Most Frequent in Y: 1, Indices: (array([0, 1, 2], dtype=int64),)\n"
     ]
    }
   ],
   "execution_count": 14
  },
  {
   "metadata": {},
   "cell_type": "markdown",
   "source": [
    "For the array gfg = np.matrix('[4, 1, 9; 12, 3, 1; 4, 5, 6]'), find:\n",
    "\n",
    "i. Sum of all elements\n",
    "\n",
    "ii. Sum of all elements row-wise\n",
    "\n",
    "iii. Sum of all elements column-wise"
   ],
   "id": "d9837c96333ab23e"
  },
  {
   "metadata": {
    "ExecuteTime": {
     "end_time": "2024-08-02T05:20:45.876633Z",
     "start_time": "2024-08-02T05:20:45.872280Z"
    }
   },
   "cell_type": "code",
   "source": [
    "gfg = np.matrix('[4, 1, 9; 12, 3, 1; 4, 5, 6]')\n",
    "sum=gfg.sum()\n",
    "row=gfg.sum(axis=0)\n",
    "col=gfg.sum(axis=1)\n",
    "\n",
    "print(f'Total Sum:{sum}, Rows Sum:{row},\\nColumn Sum:\\n{col}')"
   ],
   "id": "1b5b94b38b760d3d",
   "outputs": [
    {
     "name": "stdout",
     "output_type": "stream",
     "text": [
      "Total Sum:45, Rows Sum:[[20  9 16]],\n",
      "Column Sum:\n",
      "[[14]\n",
      " [16]\n",
      " [15]]\n"
     ]
    }
   ],
   "execution_count": 15
  },
  {
   "metadata": {},
   "cell_type": "markdown",
   "source": [
    "For the matrix: n_array = np.array([[55, 25, 15],[30, 44, 2],[11, 45, 77]]), find\n",
    "\n",
    "i. Sum of diagonal elements\n",
    "\n",
    "ii. Eigen values of matrix\n",
    "\n",
    "iii. Eigen vectors of matrix\n",
    "\n",
    "iv. Inverse of matrix\n",
    "\n",
    "v. Determinant of matrix"
   ],
   "id": "46eb6ced9a20b06"
  },
  {
   "metadata": {
    "ExecuteTime": {
     "end_time": "2024-08-02T05:21:23.239454Z",
     "start_time": "2024-08-02T05:21:23.221587Z"
    }
   },
   "cell_type": "code",
   "source": [
    "n_array = np.array([[55, 25, 15], [30, 44, 2], [11, 45, 77]])\n",
    "\n",
    "sum_diagonal = np.trace(n_array)\n",
    "eigen_values, eigen_vectors = np.linalg.eig(n_array)\n",
    "inverse = np.linalg.inv(n_array)\n",
    "determinant = np.linalg.det(n_array)\n",
    "\n",
    "print(sum_diagonal)\n",
    "print(eigen_values)\n",
    "print(eigen_vectors)\n",
    "print(inverse)\n",
    "print(determinant)"
   ],
   "id": "dd64ed7c728af640",
   "outputs": [
    {
     "name": "stdout",
     "output_type": "stream",
     "text": [
      "176\n",
      "[98.16835147 28.097044   49.73460452]\n",
      "[[ 0.4574917   0.34637121 -0.15017693]\n",
      " [ 0.28447814 -0.72784061 -0.4852124 ]\n",
      " [ 0.84248058  0.59184038  0.8614034 ]]\n",
      "[[ 0.02404141 -0.00911212 -0.00444671]\n",
      " [-0.01667882  0.02966905  0.0024785 ]\n",
      " [ 0.00631287 -0.01603732  0.01217379]]\n",
      "137180.0000000001\n"
     ]
    }
   ],
   "execution_count": 16
  },
  {
   "metadata": {},
   "cell_type": "markdown",
   "source": [
    "Multiply the following matrices and also find covariance between matrices using NumPy:\n",
    "\n",
    "i. p = [[1, 2], [2, 3]]   q = [[4, 5], [6, 7]]\n",
    "\n",
    "ii. p = [[1, 2], [2, 3], [4, 5]]  q = [[4, 5, 1], [6, 7, 2]]"
   ],
   "id": "f0d7cc7b00f19803"
  },
  {
   "metadata": {
    "ExecuteTime": {
     "end_time": "2024-08-02T05:21:41.270867Z",
     "start_time": "2024-08-02T05:21:41.263884Z"
    }
   },
   "cell_type": "code",
   "source": [
    "p1 = np.array([[1, 2], [2, 3]])\n",
    "q1 = np.array([[4, 5], [6, 7]])\n",
    "\n",
    "multiplication1 = np.dot(p1, q1)\n",
    "print(f'The multiplication of both matrices is:\\n{multiplication1}')\n",
    "\n",
    "p1_flat = p1.flatten()\n",
    "q1_flat = q1.flatten()\n",
    "covariance1 = np.cov(p1_flat, q1_flat)\n",
    "print(f'The covariance of both matrices is:\\n{covariance1}')\n",
    "\n",
    "p2 = np.array([[1, 2], [2, 3], [4, 5]])\n",
    "q2 = np.array([[4, 5, 1], [6, 7, 2]])\n",
    "\n",
    "multiplication2 = np.dot(p2, q2)\n",
    "print(f'The multiplication of both matrices is:\\n{multiplication2}')\n",
    "\n",
    "p2_flat = p2.flatten()\n",
    "q2_flat = q2.flatten()\n",
    "covariance2 = np.cov(p2_flat, q2_flat)\n",
    "print(f'The covariance of both matrices is:\\n{covariance2}')"
   ],
   "id": "cbb5367f6dd8a44d",
   "outputs": [
    {
     "name": "stdout",
     "output_type": "stream",
     "text": [
      "The multiplication of both matrices is:\n",
      "[[16 19]\n",
      " [26 31]]\n",
      "The covariance of both matrices is:\n",
      "[[0.66666667 1.        ]\n",
      " [1.         1.66666667]]\n",
      "The multiplication of both matrices is:\n",
      "[[16 19  5]\n",
      " [26 31  8]\n",
      " [46 55 14]]\n",
      "The covariance of both matrices is:\n",
      "[[2.16666667 0.23333333]\n",
      " [0.23333333 5.36666667]]\n"
     ]
    }
   ],
   "execution_count": 18
  },
  {
   "metadata": {},
   "cell_type": "markdown",
   "source": [
    "For the matrices: x = np.array([[2, 3, 4], [3, 2, 9]]); y = np.array([[1, 5, 0], [5, 10, 3]]),\n",
    "\n",
    "find inner, outer and cartesian product?"
   ],
   "id": "e5cc095320b9e3b0"
  },
  {
   "metadata": {
    "ExecuteTime": {
     "end_time": "2024-08-02T05:21:43.408829Z",
     "start_time": "2024-08-02T05:21:43.404018Z"
    }
   },
   "cell_type": "code",
   "source": [
    "x = np.array([[2, 3, 4], [3, 2, 9]])\n",
    "y = np.array([[1, 5, 0], [5, 10, 3]])\n",
    "\n",
    "inner_product = np.inner(x, y)\n",
    "outer_product = np.outer(x, y)\n",
    "cartesian=np.array(np.meshgrid(x, y)).T.reshape(-1, 2)\n",
    "print(f'Inner Product: {inner_product}')\n",
    "print(f'Outer Product: {outer_product}')\n",
    "print(f'Cartesian Product: {cartesian}')"
   ],
   "id": "d2b6faed5d8b443b",
   "outputs": [
    {
     "name": "stdout",
     "output_type": "stream",
     "text": [
      "Inner Product: [[17 52]\n",
      " [13 62]]\n",
      "Outer Product: [[ 2 10  0 10 20  6]\n",
      " [ 3 15  0 15 30  9]\n",
      " [ 4 20  0 20 40 12]\n",
      " [ 3 15  0 15 30  9]\n",
      " [ 2 10  0 10 20  6]\n",
      " [ 9 45  0 45 90 27]]\n",
      "Cartesian Product: [[ 2  1]\n",
      " [ 2  5]\n",
      " [ 2  0]\n",
      " [ 2  5]\n",
      " [ 2 10]\n",
      " [ 2  3]\n",
      " [ 3  1]\n",
      " [ 3  5]\n",
      " [ 3  0]\n",
      " [ 3  5]\n",
      " [ 3 10]\n",
      " [ 3  3]\n",
      " [ 4  1]\n",
      " [ 4  5]\n",
      " [ 4  0]\n",
      " [ 4  5]\n",
      " [ 4 10]\n",
      " [ 4  3]\n",
      " [ 3  1]\n",
      " [ 3  5]\n",
      " [ 3  0]\n",
      " [ 3  5]\n",
      " [ 3 10]\n",
      " [ 3  3]\n",
      " [ 2  1]\n",
      " [ 2  5]\n",
      " [ 2  0]\n",
      " [ 2  5]\n",
      " [ 2 10]\n",
      " [ 2  3]\n",
      " [ 9  1]\n",
      " [ 9  5]\n",
      " [ 9  0]\n",
      " [ 9  5]\n",
      " [ 9 10]\n",
      " [ 9  3]]\n"
     ]
    }
   ],
   "execution_count": 19
  },
  {
   "metadata": {},
   "cell_type": "markdown",
   "source": [
    "For the array: array = np.array([[1, -2, 3],[-4, 5, -6]])\n",
    "\n",
    "i. Find element-wise absolute value\n",
    "\n",
    "ii. Find the 25th, 50th, and 75th percentile of flattened array, for each column, for each row.\n",
    "\n",
    "iii. Mean, Median and Standard Deviation of flattened array, of each column, and each row "
   ],
   "id": "1c0236aeac567ac0"
  },
  {
   "metadata": {
    "ExecuteTime": {
     "end_time": "2024-08-02T05:21:45.723281Z",
     "start_time": "2024-08-02T05:21:45.717344Z"
    }
   },
   "cell_type": "code",
   "source": [
    "array = np.array([[1, -2, 3], [-4, 5, -6]])\n",
    "\n",
    "abs_values = np.abs(array)\n",
    "\n",
    "percentile_25 = np.percentile(array.flatten(), 25)\n",
    "percentile_50 = np.percentile(array.flatten(), 50)\n",
    "percentile_75 = np.percentile(array.flatten(), 75)\n",
    "\n",
    "mean_val = np.mean(array)\n",
    "median_val = np.median(array)\n",
    "std_dev_val = np.std(array)\n",
    "\n",
    "print(abs_values)\n",
    "print(percentile_25, percentile_50, percentile_75)\n",
    "print(mean_val, median_val, std_dev_val)"
   ],
   "id": "a418f8afe33b41c0",
   "outputs": [
    {
     "name": "stdout",
     "output_type": "stream",
     "text": [
      "[[1 2 3]\n",
      " [4 5 6]]\n",
      "-3.5 -0.5 2.5\n",
      "-0.5 -0.5 3.8622100754188224\n"
     ]
    }
   ],
   "execution_count": 20
  },
  {
   "metadata": {},
   "cell_type": "markdown",
   "source": [
    "For the array: a = np.array([-1.8, -1.6, -0.5, 0.5,1.6, 1.8, 3.0]).\n",
    "\n",
    "Find floor, ceiling and truncated value, rounded values"
   ],
   "id": "55229efc0f53b86f"
  },
  {
   "metadata": {
    "ExecuteTime": {
     "end_time": "2024-08-02T05:21:48.029605Z",
     "start_time": "2024-08-02T05:21:48.025138Z"
    }
   },
   "cell_type": "code",
   "source": [
    "a = np.array([-1.8, -1.6, -0.5, 0.5, 1.6, 1.8, 3.0])\n",
    "\n",
    "floor = np.floor(a)\n",
    "ceiling = np.ceil(a)\n",
    "truncated = np.trunc(a)\n",
    "rounded = np.round(a)\n",
    "\n",
    "print(floor)\n",
    "print(ceiling)\n",
    "print(truncated)\n",
    "print(rounded)"
   ],
   "id": "a75678e708bb9b2",
   "outputs": [
    {
     "name": "stdout",
     "output_type": "stream",
     "text": [
      "[-2. -2. -1.  0.  1.  1.  3.]\n",
      "[-1. -1. -0.  1.  2.  2.  3.]\n",
      "[-1. -1. -0.  0.  1.  1.  3.]\n",
      "[-2. -2. -0.  0.  2.  2.  3.]\n"
     ]
    }
   ],
   "execution_count": 21
  },
  {
   "metadata": {},
   "cell_type": "markdown",
   "source": [
    "For the array: array = np.array([10, 52, 62, 16, 16, 54, 453]), find\n",
    "\n",
    "i. Sorted array\n",
    "\n",
    "ii. Indices of sorted array\n",
    "\n",
    "iii. 4 smallest elements\n",
    "\n",
    "iv. 5 largest elements"
   ],
   "id": "b7190167ddc62334"
  },
  {
   "metadata": {
    "ExecuteTime": {
     "end_time": "2024-08-02T05:21:49.701339Z",
     "start_time": "2024-08-02T05:21:49.695818Z"
    }
   },
   "cell_type": "code",
   "source": [
    "array = np.array([10, 52, 62, 16, 16, 54, 453])\n",
    "\n",
    "sorted_array = np.sort(array)\n",
    "sorted_indices = np.argsort(array)\n",
    "smallest_4 = np.sort(array)[:4]\n",
    "largest_5 = np.sort(array)[-5:]\n",
    "\n",
    "print(sorted_array)\n",
    "print(sorted_indices)\n",
    "print(smallest_4)\n",
    "print(largest_5)"
   ],
   "id": "eb95c8a720437722",
   "outputs": [
    {
     "name": "stdout",
     "output_type": "stream",
     "text": [
      "[ 10  16  16  52  54  62 453]\n",
      "[0 3 4 1 5 2 6]\n",
      "[10 16 16 52]\n",
      "[ 16  52  54  62 453]\n"
     ]
    }
   ],
   "execution_count": 22
  },
  {
   "metadata": {},
   "cell_type": "markdown",
   "source": [
    "For the array: array = np.array([1.0, 1.2, 2.2, 2.0, 3.0, 2.0]), find\n",
    "\n",
    "i. Integer elements only\n",
    "\n",
    "ii. Float elements only"
   ],
   "id": "a497033495ac0534"
  },
  {
   "metadata": {
    "ExecuteTime": {
     "end_time": "2024-08-02T05:21:52.528501Z",
     "start_time": "2024-08-02T05:21:52.524277Z"
    }
   },
   "cell_type": "code",
   "source": [
    "array = np.array([1.0, 1.2, 2.2, 2.0, 3.0, 2.0])\n",
    "\n",
    "integer_elements = array[array == array.astype(int)]\n",
    "float_elements = array[array != array.astype(int)]\n",
    "\n",
    "print(integer_elements)\n",
    "print(float_elements)"
   ],
   "id": "a58b27603f3c9695",
   "outputs": [
    {
     "name": "stdout",
     "output_type": "stream",
     "text": [
      "[1. 2. 3. 2.]\n",
      "[1.2 2.2]\n"
     ]
    }
   ],
   "execution_count": 23
  },
  {
   "metadata": {},
   "cell_type": "markdown",
   "source": "Write a function named img_to_array(path) that reads an image from a specified path and save it as text file on local machine? (Note: use separate cases for RGB and Grey Scale images)",
   "id": "34cc0ccbf61ef8ef"
  },
  {
   "metadata": {
    "ExecuteTime": {
     "end_time": "2024-08-02T05:21:59.208031Z",
     "start_time": "2024-08-02T05:21:57.145061Z"
    }
   },
   "cell_type": "code",
   "source": [
    "import cv2\n",
    "\n",
    "def img_to_array(path):\n",
    "    img = cv2.imread(path)\n",
    "    if len(img.shape) == 3:  # RGB image\n",
    "        np.savetxt('image_rgb.txt', img.reshape(-1, img.shape[2]), fmt='%d')\n",
    "    else:  # Grayscale image\n",
    "        np.savetxt('image_greyscale.txt', img, fmt='%d')\n",
    "img_to_array('C:/Users/SIDDHANT/Documents/Studies/3rd Year/Machine Learning/Assignment 1/acm.jpeg')"
   ],
   "id": "dcb6d6706ac523ba",
   "outputs": [],
   "execution_count": 24
  }
 ],
 "metadata": {
  "kernelspec": {
   "display_name": "Python 3",
   "language": "python",
   "name": "python3"
  },
  "language_info": {
   "codemirror_mode": {
    "name": "ipython",
    "version": 2
   },
   "file_extension": ".py",
   "mimetype": "text/x-python",
   "name": "python",
   "nbconvert_exporter": "python",
   "pygments_lexer": "ipython2",
   "version": "2.7.6"
  }
 },
 "nbformat": 4,
 "nbformat_minor": 5
}
