{
 "cells": [
  {
   "metadata": {},
   "cell_type": "markdown",
   "source": [
    "Download the dataset (in csv format) from the following link:\n",
    "\n",
    "https://www.kaggle.com/jahias/microsoft-adventure-works-cycles-customer-data\n",
    "\n",
    "The Marketing department of Adventure Works Cycles wants to increase sales by targeting specific\n",
    "customers for a mailing campaign. The company's database contains a list of past customers and a list of\n",
    "potential new customers. By investigating the attributes of previous bike buyers, the company hopes to\n",
    "discover patterns that they can then apply to potential customers. They hope to use the discovered patterns\n",
    "to predict which potential customers are most likely to purchase a bike from Adventure Works Cycles. "
   ],
   "id": "70427ebbf343a5ad"
  },
  {
   "metadata": {},
   "cell_type": "markdown",
   "source": "Importing Pandas",
   "id": "c0761e898005543b"
  },
  {
   "cell_type": "code",
   "id": "initial_id",
   "metadata": {
    "collapsed": true,
    "ExecuteTime": {
     "end_time": "2024-08-09T04:37:20.475281Z",
     "start_time": "2024-08-09T04:37:20.470973Z"
    }
   },
   "source": [
    "import numpy as np\n",
    "import pandas as pd"
   ],
   "outputs": [],
   "execution_count": 6
  },
  {
   "metadata": {},
   "cell_type": "markdown",
   "source": "Loading the Dataset",
   "id": "8e19d0b05cdfcb03"
  },
  {
   "metadata": {
    "ExecuteTime": {
     "end_time": "2024-08-09T04:37:21.398976Z",
     "start_time": "2024-08-09T04:37:21.297552Z"
    }
   },
   "cell_type": "code",
   "source": [
    "df_customers = pd.read_csv('C:/Users/SIDDHANT/Documents/Studies/3rd Year/Machine Learning/Assignment 2/kaggle_dataset/AWCustomers.csv')\n",
    "df_sales = pd.read_csv('C:/Users/SIDDHANT/Documents/Studies/3rd Year/Machine Learning/Assignment 2/kaggle_dataset/AWSales.csv')"
   ],
   "id": "6d30406afe780e2d",
   "outputs": [],
   "execution_count": 7
  },
  {
   "metadata": {},
   "cell_type": "markdown",
   "source": "Display the first 6 rows of the data",
   "id": "71b0d2f9ccb082a"
  },
  {
   "metadata": {
    "ExecuteTime": {
     "end_time": "2024-08-09T04:37:22.069321Z",
     "start_time": "2024-08-09T04:37:22.058527Z"
    }
   },
   "cell_type": "code",
   "source": [
    "print(df_customers.head())\n",
    "print(df_sales.head())"
   ],
   "id": "12e7d7ff0f20d927",
   "outputs": [
    {
     "name": "stdout",
     "output_type": "stream",
     "text": [
      "   CustomerID Title FirstName MiddleName  LastName Suffix  \\\n",
      "0       21173   NaN      Chad          C      Yuan    NaN   \n",
      "1       13249   NaN      Ryan        NaN     Perry    NaN   \n",
      "2       29350   NaN     Julia        NaN  Thompson    NaN   \n",
      "3       13503   NaN  Theodore        NaN     Gomez    NaN   \n",
      "4       22803   NaN  Marshall          J      Shan    NaN   \n",
      "\n",
      "             AddressLine1 AddressLine2         City    StateProvinceName  ...  \\\n",
      "0      7090 C. Mount Hood          NaN   Wollongong      New South Wales  ...   \n",
      "1     3651 Willow Lake Rd          NaN      Shawnee     British Columbia  ...   \n",
      "2  1774 Tice Valley Blvd.          NaN  West Covina           California  ...   \n",
      "3         2103 Baldwin Dr          NaN    Liverpool              England  ...   \n",
      "4         Am Gallberg 234          NaN        Werne  Nordrhein-Westfalen  ...   \n",
      "\n",
      "         Education      Occupation Gender MaritalStatus HomeOwnerFlag  \\\n",
      "0        Bachelors        Clerical      M             M             1   \n",
      "1  Partial College        Clerical      M             M             1   \n",
      "2        Bachelors        Clerical      F             S             0   \n",
      "3  Partial College  Skilled Manual      M             M             1   \n",
      "4  Partial College  Skilled Manual      M             S             1   \n",
      "\n",
      "  NumberCarsOwned NumberChildrenAtHome TotalChildren  YearlyIncome  \\\n",
      "0               3                    0             1         81916   \n",
      "1               2                    1             2         81076   \n",
      "2               3                    0             0         86387   \n",
      "3               2                    1             2         61481   \n",
      "4               1                    0             0         51804   \n",
      "\n",
      "   LastUpdated  \n",
      "0   2017-03-06  \n",
      "1   2017-03-06  \n",
      "2   2017-03-06  \n",
      "3   2017-03-06  \n",
      "4   2017-03-06  \n",
      "\n",
      "[5 rows x 24 columns]\n",
      "   CustomerID  BikeBuyer  AvgMonthSpend\n",
      "0       21173          1          50.97\n",
      "1       13249          1          53.11\n",
      "2       29350          1          54.08\n",
      "3       13503          1          56.93\n",
      "4       22803          1          55.41\n"
     ]
    }
   ],
   "execution_count": 8
  },
  {
   "metadata": {},
   "cell_type": "markdown",
   "source": "Summarize the data",
   "id": "de010aa7f6447edf"
  },
  {
   "metadata": {
    "ExecuteTime": {
     "end_time": "2024-08-09T04:37:24.094591Z",
     "start_time": "2024-08-09T04:37:24.064235Z"
    }
   },
   "cell_type": "code",
   "source": [
    "print(df_customers.info())\n",
    "print(df_sales.info())"
   ],
   "id": "5f98b1963352c98a",
   "outputs": [
    {
     "name": "stdout",
     "output_type": "stream",
     "text": [
      "<class 'pandas.core.frame.DataFrame'>\n",
      "RangeIndex: 18361 entries, 0 to 18360\n",
      "Data columns (total 24 columns):\n",
      " #   Column                Non-Null Count  Dtype \n",
      "---  ------                --------------  ----- \n",
      " 0   CustomerID            18361 non-null  int64 \n",
      " 1   Title                 101 non-null    object\n",
      " 2   FirstName             18361 non-null  object\n",
      " 3   MiddleName            10572 non-null  object\n",
      " 4   LastName              18361 non-null  object\n",
      " 5   Suffix                3 non-null      object\n",
      " 6   AddressLine1          18361 non-null  object\n",
      " 7   AddressLine2          311 non-null    object\n",
      " 8   City                  18361 non-null  object\n",
      " 9   StateProvinceName     18361 non-null  object\n",
      " 10  CountryRegionName     18361 non-null  object\n",
      " 11  PostalCode            18361 non-null  object\n",
      " 12  PhoneNumber           18361 non-null  object\n",
      " 13  BirthDate             18361 non-null  object\n",
      " 14  Education             18361 non-null  object\n",
      " 15  Occupation            18361 non-null  object\n",
      " 16  Gender                18361 non-null  object\n",
      " 17  MaritalStatus         18361 non-null  object\n",
      " 18  HomeOwnerFlag         18361 non-null  int64 \n",
      " 19  NumberCarsOwned       18361 non-null  int64 \n",
      " 20  NumberChildrenAtHome  18361 non-null  int64 \n",
      " 21  TotalChildren         18361 non-null  int64 \n",
      " 22  YearlyIncome          18361 non-null  int64 \n",
      " 23  LastUpdated           18361 non-null  object\n",
      "dtypes: int64(6), object(18)\n",
      "memory usage: 3.4+ MB\n",
      "None\n",
      "<class 'pandas.core.frame.DataFrame'>\n",
      "RangeIndex: 18355 entries, 0 to 18354\n",
      "Data columns (total 3 columns):\n",
      " #   Column         Non-Null Count  Dtype  \n",
      "---  ------         --------------  -----  \n",
      " 0   CustomerID     18355 non-null  int64  \n",
      " 1   BikeBuyer      18355 non-null  int64  \n",
      " 2   AvgMonthSpend  18355 non-null  float64\n",
      "dtypes: float64(1), int64(2)\n",
      "memory usage: 430.3 KB\n",
      "None\n"
     ]
    }
   ],
   "execution_count": 9
  },
  {
   "metadata": {},
   "cell_type": "markdown",
   "source": "Data Statistics",
   "id": "b7ab096ee4fdec45"
  },
  {
   "metadata": {
    "ExecuteTime": {
     "end_time": "2024-08-09T04:37:26.049985Z",
     "start_time": "2024-08-09T04:37:26.015334Z"
    }
   },
   "cell_type": "code",
   "source": [
    "print(df_customers.describe())\n",
    "print(df_sales.describe())"
   ],
   "id": "a93447cec50d75ac",
   "outputs": [
    {
     "name": "stdout",
     "output_type": "stream",
     "text": [
      "         CustomerID  HomeOwnerFlag  NumberCarsOwned  NumberChildrenAtHome  \\\n",
      "count  18361.000000   18361.000000     18361.000000          18361.000000   \n",
      "mean   20241.987092       0.610588         1.270301              0.338162   \n",
      "std     5336.332731       0.487630         0.913989              0.568957   \n",
      "min    11000.000000       0.000000         0.000000              0.000000   \n",
      "25%    15621.000000       0.000000         1.000000              0.000000   \n",
      "50%    20248.000000       1.000000         1.000000              0.000000   \n",
      "75%    24863.000000       1.000000         2.000000              1.000000   \n",
      "max    29483.000000       1.000000         5.000000              3.000000   \n",
      "\n",
      "       TotalChildren   YearlyIncome  \n",
      "count   18361.000000   18361.000000  \n",
      "mean        0.850389   72754.779642  \n",
      "std         0.927315   30686.014313  \n",
      "min         0.000000   25435.000000  \n",
      "25%         0.000000   53312.000000  \n",
      "50%         0.000000   61851.000000  \n",
      "75%         2.000000   87410.000000  \n",
      "max         3.000000  139115.000000  \n",
      "         CustomerID    BikeBuyer  AvgMonthSpend\n",
      "count  18355.000000  18355.00000   18355.000000\n",
      "mean   20241.349387      0.55173      51.767207\n",
      "std     5336.539868      0.49733       3.438024\n",
      "min    11000.000000      0.00000      44.100000\n",
      "25%    15620.500000      0.00000      49.410000\n",
      "50%    20246.000000      1.00000      51.420000\n",
      "75%    24863.500000      1.00000      53.600000\n",
      "max    29483.000000      1.00000      65.290000\n"
     ]
    }
   ],
   "execution_count": 10
  },
  {
   "metadata": {},
   "cell_type": "markdown",
   "source": [
    "Examine the values of each attribute and Select a set of attributes only that would affect to predict\n",
    "future bike buyers to create your input for data mining algorithms. Remove all the unnecessary\n",
    "attributes. (Select features just by analysis)."
   ],
   "id": "a818c6d77d284dcf"
  },
  {
   "metadata": {
    "ExecuteTime": {
     "end_time": "2024-08-09T04:47:06.047170Z",
     "start_time": "2024-08-09T04:47:06.035331Z"
    }
   },
   "cell_type": "code",
   "source": [
    "columns_to_drop = ['Title', 'FirstName', 'MiddleName', 'LastName', 'Suffix', \n",
    "                   'AddressLine1', 'AddressLine2', 'City', 'StateProvinceName', \n",
    "                   'CountryRegionName', 'PostalCode', 'PhoneNumber', 'BirthDate', 'LastUpdated']\n",
    "\n",
    "df_customers_cleaned = df_customers.drop(columns=columns_to_drop)\n",
    "\n",
    "print(df_customers_cleaned.head())"
   ],
   "id": "e1644e58d0a96b36",
   "outputs": [
    {
     "name": "stdout",
     "output_type": "stream",
     "text": [
      "   CustomerID        Education      Occupation Gender MaritalStatus  \\\n",
      "0       21173        Bachelors        Clerical      M             M   \n",
      "1       13249  Partial College        Clerical      M             M   \n",
      "2       29350        Bachelors        Clerical      F             S   \n",
      "3       13503  Partial College  Skilled Manual      M             M   \n",
      "4       22803  Partial College  Skilled Manual      M             S   \n",
      "\n",
      "   HomeOwnerFlag  NumberCarsOwned  NumberChildrenAtHome  TotalChildren  \\\n",
      "0              1                3                     0              1   \n",
      "1              1                2                     1              2   \n",
      "2              0                3                     0              0   \n",
      "3              1                2                     1              2   \n",
      "4              1                1                     0              0   \n",
      "\n",
      "   YearlyIncome  \n",
      "0         81916  \n",
      "1         81076  \n",
      "2         86387  \n",
      "3         61481  \n",
      "4         51804  \n"
     ]
    }
   ],
   "execution_count": 11
  },
  {
   "metadata": {},
   "cell_type": "markdown",
   "source": "Create a new Data Frame with the selected attributes only. ",
   "id": "b8ab31476a2ae96e"
  },
  {
   "metadata": {
    "ExecuteTime": {
     "end_time": "2024-08-09T04:51:28.989631Z",
     "start_time": "2024-08-09T04:51:28.970904Z"
    }
   },
   "cell_type": "code",
   "source": [
    "df_merged = pd.merge(df_customers_cleaned, df_sales, on='CustomerID')\n",
    "print(df_merged.head())"
   ],
   "id": "d877d2671b6c8690",
   "outputs": [
    {
     "name": "stdout",
     "output_type": "stream",
     "text": [
      "   CustomerID        Education      Occupation Gender MaritalStatus  \\\n",
      "0       21173        Bachelors        Clerical      M             M   \n",
      "1       13249  Partial College        Clerical      M             M   \n",
      "2       29350        Bachelors        Clerical      F             S   \n",
      "3       13503  Partial College  Skilled Manual      M             M   \n",
      "4       22803  Partial College  Skilled Manual      M             S   \n",
      "\n",
      "   HomeOwnerFlag  NumberCarsOwned  NumberChildrenAtHome  TotalChildren  \\\n",
      "0              1                3                     0              1   \n",
      "1              1                2                     1              2   \n",
      "2              0                3                     0              0   \n",
      "3              1                2                     1              2   \n",
      "4              1                1                     0              0   \n",
      "\n",
      "   YearlyIncome  BikeBuyer  AvgMonthSpend  \n",
      "0         81916          1          50.97  \n",
      "1         81076          1          53.11  \n",
      "2         86387          1          54.08  \n",
      "3         61481          1          56.93  \n",
      "4         51804          1          55.41  \n"
     ]
    }
   ],
   "execution_count": 13
  },
  {
   "metadata": {},
   "cell_type": "markdown",
   "source": [
    "Determine a Data value type (Discrete, or Continuous, then Nominal, Ordinal, Interval, Ratio) of\n",
    "each attribute in your selection to identify preprocessing tasks to create input for your data mining. "
   ],
   "id": "c215ac28c552ea79"
  },
  {
   "metadata": {
    "ExecuteTime": {
     "end_time": "2024-08-09T05:04:11.808718Z",
     "start_time": "2024-08-09T05:04:11.802379Z"
    }
   },
   "cell_type": "code",
   "source": [
    "data_types = {\n",
    "    'CustomerID': 'Discrete (Nominal)',\n",
    "    'Education': 'Categorical (Ordinal)',\n",
    "    'Occupation': 'Categorical (Nominal)',\n",
    "    'Gender': 'Binary (Nominal)',\n",
    "    'MaritalStatus': 'Binary (Nominal)',\n",
    "    'HomeOwnerFlag': 'Binary (Nominal)',\n",
    "    'NumberCarsOwned': 'Discrete (Ordinal)',\n",
    "    'NumberChildrenAtHome': 'Discrete (Ordinal)',\n",
    "    'TotalChildren': 'Discrete (Ordinal)',\n",
    "    'YearlyIncome': 'Continuous (Ratio)',\n",
    "    'BikeBuyer': 'Binary (Nominal)',\n",
    "    'AvgMonthSpend': 'Continuous (Ratio)'\n",
    "}\n",
    "\n",
    "for col, dtype in data_types.items():\n",
    "    print(f\"Attribute: {col}, Data Type: {dtype}\")"
   ],
   "id": "6d226e508ca974b",
   "outputs": [
    {
     "name": "stdout",
     "output_type": "stream",
     "text": [
      "Attribute: CustomerID, Data Type: Discrete (Nominal)\n",
      "Attribute: Education, Data Type: Categorical (Ordinal)\n",
      "Attribute: Occupation, Data Type: Categorical (Nominal)\n",
      "Attribute: Gender, Data Type: Binary (Nominal)\n",
      "Attribute: MaritalStatus, Data Type: Binary (Nominal)\n",
      "Attribute: HomeOwnerFlag, Data Type: Binary (Nominal)\n",
      "Attribute: NumberCarsOwned, Data Type: Discrete (Ordinal)\n",
      "Attribute: NumberChildrenAtHome, Data Type: Discrete (Ordinal)\n",
      "Attribute: TotalChildren, Data Type: Discrete (Ordinal)\n",
      "Attribute: YearlyIncome, Data Type: Continuous (Ratio)\n",
      "Attribute: BikeBuyer, Data Type: Binary (Nominal)\n",
      "Attribute: AvgMonthSpend, Data Type: Continuous (Ratio)\n"
     ]
    }
   ],
   "execution_count": 14
  },
  {
   "metadata": {},
   "cell_type": "markdown",
   "source": [
    "Part II: Data Preprocessing and Transformation\n",
    "\n",
    "Depending on the data type of each attribute, transform each object from your preprocessed data.\n",
    "Use all the data rows (~= 18000 rows) with the selected features as input to apply all the tasks below, do\n",
    "not perform each task on the smaller data set that you got from your random sampling result."
   ],
   "id": "844afcddca6154a7"
  },
  {
   "metadata": {},
   "cell_type": "markdown",
   "source": "Importing Sklearn Modules",
   "id": "17463acefba2d93b"
  },
  {
   "metadata": {
    "ExecuteTime": {
     "end_time": "2024-08-09T05:22:48.654902Z",
     "start_time": "2024-08-09T05:22:44.376518Z"
    }
   },
   "cell_type": "code",
   "source": [
    "from sklearn.impute import SimpleImputer\n",
    "from sklearn.preprocessing import MinMaxScaler\n",
    "from sklearn.preprocessing import StandardScaler"
   ],
   "id": "2ce8d26febd38355",
   "outputs": [],
   "execution_count": 16
  },
  {
   "metadata": {},
   "cell_type": "markdown",
   "source": "(a) Handling Null values",
   "id": "52964a1b0b3509ba"
  },
  {
   "metadata": {
    "ExecuteTime": {
     "end_time": "2024-08-09T05:22:55.070635Z",
     "start_time": "2024-08-09T05:22:55.040391Z"
    }
   },
   "cell_type": "code",
   "source": [
    "# Categorical Att\n",
    "categorical_cols = ['Education', 'Occupation', 'Gender', 'MaritalStatus']\n",
    "imputer_mode = SimpleImputer(strategy='most_frequent')\n",
    "df_merged[categorical_cols] = imputer_mode.fit_transform(df_merged[categorical_cols])\n",
    "\n",
    "# Numerical Att\n",
    "numerical_cols = ['YearlyIncome', 'AvgMonthSpend', 'NumberCarsOwned', 'NumberChildrenAtHome', 'TotalChildren']\n",
    "imputer_mean = SimpleImputer(strategy='mean')\n",
    "df_merged[numerical_cols] = imputer_mean.fit_transform(df_merged[numerical_cols])\n",
    "\n",
    "# Check for remaining NULL Values\n",
    "print(df_merged.isnull().sum())"
   ],
   "id": "f6c6f7eee80e094e",
   "outputs": [
    {
     "name": "stdout",
     "output_type": "stream",
     "text": [
      "CustomerID              0\n",
      "Education               0\n",
      "Occupation              0\n",
      "Gender                  0\n",
      "MaritalStatus           0\n",
      "HomeOwnerFlag           0\n",
      "NumberCarsOwned         0\n",
      "NumberChildrenAtHome    0\n",
      "TotalChildren           0\n",
      "YearlyIncome            0\n",
      "BikeBuyer               0\n",
      "AvgMonthSpend           0\n",
      "dtype: int64\n"
     ]
    }
   ],
   "execution_count": 17
  },
  {
   "metadata": {},
   "cell_type": "markdown",
   "source": "(b) Normalization",
   "id": "9b4f5d6148a7b194"
  },
  {
   "metadata": {
    "ExecuteTime": {
     "end_time": "2024-08-09T05:22:59.233544Z",
     "start_time": "2024-08-09T05:22:59.217864Z"
    }
   },
   "cell_type": "code",
   "source": [
    "# Normalize YearlyIncome and AvgMonthSpend\n",
    "scaler = MinMaxScaler()\n",
    "df_merged[['YearlyIncome', 'AvgMonthSpend']] = scaler.fit_transform(df_merged[['YearlyIncome', 'AvgMonthSpend']])\n",
    "\n",
    "# Display normalized columns\n",
    "print(df_merged[['YearlyIncome', 'AvgMonthSpend']].head())"
   ],
   "id": "28de2ac9d7ab645d",
   "outputs": [
    {
     "name": "stdout",
     "output_type": "stream",
     "text": [
      "   YearlyIncome  AvgMonthSpend\n",
      "0      0.496842       0.324210\n",
      "1      0.489453       0.425201\n",
      "2      0.536172       0.470977\n",
      "3      0.317083       0.605474\n",
      "4      0.231958       0.533742\n"
     ]
    }
   ],
   "execution_count": 18
  },
  {
   "metadata": {},
   "cell_type": "markdown",
   "source": "(c) Discretization (Binning) on Continuous attributes or Categorical Attributes with too many different values",
   "id": "62977618cf706720"
  },
  {
   "metadata": {
    "ExecuteTime": {
     "end_time": "2024-08-09T05:25:01.286178Z",
     "start_time": "2024-08-09T05:25:01.273293Z"
    }
   },
   "cell_type": "code",
   "source": [
    "# Converting the continuous attribute (Yearly Income) to Discrete -> Low, Medium, High \n",
    "df_merged['IncomeBin'] = pd.cut(df_merged['YearlyIncome'], bins=3, labels=['Low', 'Medium', 'High'])\n",
    "\n",
    "# Display the binned data\n",
    "print(df_merged[['YearlyIncome', 'IncomeBin']].head())\n",
    "\n",
    "# Check the number of occurrences in each bin\n",
    "income_bin_counts = df_merged['IncomeBin'].value_counts()\n",
    "\n",
    "# Display the counts\n",
    "print(income_bin_counts)"
   ],
   "id": "1a9a8bb5592185c8",
   "outputs": [
    {
     "name": "stdout",
     "output_type": "stream",
     "text": [
      "   YearlyIncome IncomeBin\n",
      "0      0.496842    Medium\n",
      "1      0.489453    Medium\n",
      "2      0.536172    Medium\n",
      "3      0.317083       Low\n",
      "4      0.231958       Low\n",
      "IncomeBin\n",
      "Low       9436\n",
      "Medium    4464\n",
      "High      4461\n",
      "Name: count, dtype: int64\n"
     ]
    }
   ],
   "execution_count": 20
  },
  {
   "metadata": {},
   "cell_type": "markdown",
   "source": "(d) Standardization/Normalization",
   "id": "61e54f9e15ec56c7"
  },
  {
   "metadata": {
    "ExecuteTime": {
     "end_time": "2024-08-09T05:25:07.239336Z",
     "start_time": "2024-08-09T05:25:07.224260Z"
    }
   },
   "cell_type": "code",
   "source": [
    "# Standardize YearlyIncome and AvgMonthSpend\n",
    "scaler = StandardScaler()\n",
    "df_merged[['YearlyIncome', 'AvgMonthSpend']] = scaler.fit_transform(df_merged[['YearlyIncome', 'AvgMonthSpend']])\n",
    "\n",
    "# Display standardized columns\n",
    "print(df_merged[['YearlyIncome', 'AvgMonthSpend']].head())"
   ],
   "id": "f0bc1dd9a60fbfde",
   "outputs": [
    {
     "name": "stdout",
     "output_type": "stream",
     "text": [
      "   YearlyIncome  AvgMonthSpend\n",
      "0      0.298555      -0.231774\n",
      "1      0.271180       0.390755\n",
      "2      0.444261       0.672929\n",
      "3     -0.367401       1.501999\n",
      "4     -0.682765       1.059828\n"
     ]
    }
   ],
   "execution_count": 21
  },
  {
   "metadata": {},
   "cell_type": "markdown",
   "source": "(e) Binarization (One Hot Encoding) ",
   "id": "f6757c57642025e6"
  },
  {
   "metadata": {
    "ExecuteTime": {
     "end_time": "2024-08-09T05:26:55.351140Z",
     "start_time": "2024-08-09T05:26:55.299995Z"
    }
   },
   "cell_type": "code",
   "source": [
    "# One-Hot Encoded categorical attributes\n",
    "df_merged = pd.get_dummies(df_merged, columns=['Education', 'Occupation', 'Gender', 'MaritalStatus', 'IncomeBin'], drop_first=True)\n",
    "\n",
    "# Display the DataFrame with one-hot encoded variables\n",
    "print(df_merged.head())"
   ],
   "id": "a2cfc357c8da41b6",
   "outputs": [
    {
     "name": "stdout",
     "output_type": "stream",
     "text": [
      "   CustomerID  HomeOwnerFlag  NumberCarsOwned  NumberChildrenAtHome  \\\n",
      "0       21173              1              3.0                   0.0   \n",
      "1       13249              1              2.0                   1.0   \n",
      "2       29350              0              3.0                   0.0   \n",
      "3       13503              1              2.0                   1.0   \n",
      "4       22803              1              1.0                   0.0   \n",
      "\n",
      "   TotalChildren  YearlyIncome  BikeBuyer  AvgMonthSpend  \\\n",
      "0            1.0      0.298555          1      -0.231774   \n",
      "1            2.0      0.271180          1       0.390755   \n",
      "2            0.0      0.444261          1       0.672929   \n",
      "3            2.0     -0.367401          1       1.501999   \n",
      "4            0.0     -0.682765          1       1.059828   \n",
      "\n",
      "   Education_Graduate Degree  Education_High School  \\\n",
      "0                      False                  False   \n",
      "1                      False                  False   \n",
      "2                      False                  False   \n",
      "3                      False                  False   \n",
      "4                      False                  False   \n",
      "\n",
      "   Education_Partial College  Education_Partial High School  \\\n",
      "0                      False                          False   \n",
      "1                       True                          False   \n",
      "2                      False                          False   \n",
      "3                       True                          False   \n",
      "4                       True                          False   \n",
      "\n",
      "   Occupation_Management  Occupation_Manual  Occupation_Professional  \\\n",
      "0                  False              False                    False   \n",
      "1                  False              False                    False   \n",
      "2                  False              False                    False   \n",
      "3                  False              False                    False   \n",
      "4                  False              False                    False   \n",
      "\n",
      "   Occupation_Skilled Manual  Gender_M  MaritalStatus_S  IncomeBin_Medium  \\\n",
      "0                      False      True            False              True   \n",
      "1                      False      True            False              True   \n",
      "2                      False     False             True              True   \n",
      "3                       True      True            False             False   \n",
      "4                       True      True             True             False   \n",
      "\n",
      "   IncomeBin_High  \n",
      "0           False  \n",
      "1           False  \n",
      "2           False  \n",
      "3           False  \n",
      "4           False  \n"
     ]
    }
   ],
   "execution_count": 22
  },
  {
   "metadata": {},
   "cell_type": "markdown",
   "source": [
    "Part III: Calculating Proximity / Correlation Analysis of two features.\n",
    "\n",
    "Make sure each attribute is transformed in a same scale for numeric attributes and Binarization for each\n",
    "nominal attribute, and each discretized numeric attribute to standardization. Make sure to apply a correct\n",
    "similarity measure for nominal (one hot encoding)/binary attributes and numeric attributes respectively. "
   ],
   "id": "94713ecd72b62feb"
  },
  {
   "metadata": {},
   "cell_type": "markdown",
   "source": "(a) Calculate Similarity in Simple Matching, Jaccard Similarity, and Cosine Similarity between two following objects of your transformed input data.",
   "id": "e6f1135b5918e160"
  },
  {
   "metadata": {
    "ExecuteTime": {
     "end_time": "2024-08-09T05:41:49.094539Z",
     "start_time": "2024-08-09T05:41:49.087063Z"
    }
   },
   "cell_type": "code",
   "source": [
    "# Simple Matching => sum(row1 == row2) / len(row1)\n",
    "smc = sum(df_merged.iloc[0] == df_merged.iloc[1]) / len(df_merged.iloc[0])\n",
    "print(smc)\n",
    "\n",
    "#Jaccard Similarity\n",
    "from sklearn.metrics import jaccard_score\n",
    "\n",
    "#jaccard_sim = jaccard_score(df_merged.iloc[0], df_merged.iloc[1], average='macro')\n",
    "#print(jaccard_sim)\n",
    "\n",
    "# Cosine Similarity\n",
    "from scipy.spatial.distance import cosine\n",
    "\n",
    "print(1-(cosine(df_merged.iloc[0], df_merged.iloc[1])))"
   ],
   "id": "797c7fa2cf0ffaaf",
   "outputs": [
    {
     "name": "stdout",
     "output_type": "stream",
     "text": [
      "0.65\n",
      "0.9999999864470285\n"
     ]
    }
   ],
   "execution_count": 26
  },
  {
   "metadata": {},
   "cell_type": "markdown",
   "source": "(b) Calculate Correlation between two features Commute Distance and Yearly Income ",
   "id": "3eaa9d5c2e14ed"
  },
  {
   "metadata": {
    "ExecuteTime": {
     "end_time": "2024-08-09T05:43:07.382840Z",
     "start_time": "2024-08-09T05:43:07.374386Z"
    }
   },
   "cell_type": "code",
   "source": [
    "correlation = df_merged['AvgMonthSpend'].corr(df_merged['YearlyIncome'])\n",
    "print(\"Correlation: \", correlation)"
   ],
   "id": "ee4e6689493936f2",
   "outputs": [
    {
     "name": "stdout",
     "output_type": "stream",
     "text": [
      "Correlation:  0.5301257155563449\n"
     ]
    }
   ],
   "execution_count": 28
  }
 ],
 "metadata": {
  "kernelspec": {
   "display_name": "Python 3",
   "language": "python",
   "name": "python3"
  },
  "language_info": {
   "codemirror_mode": {
    "name": "ipython",
    "version": 2
   },
   "file_extension": ".py",
   "mimetype": "text/x-python",
   "name": "python",
   "nbconvert_exporter": "python",
   "pygments_lexer": "ipython2",
   "version": "2.7.6"
  }
 },
 "nbformat": 4,
 "nbformat_minor": 5
}
