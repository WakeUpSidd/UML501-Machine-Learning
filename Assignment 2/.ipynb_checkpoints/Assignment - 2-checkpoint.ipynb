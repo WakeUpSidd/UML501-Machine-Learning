{
 "cells": [
  {
   "cell_type": "code",
   "id": "initial_id",
   "metadata": {
    "collapsed": true,
    "ExecuteTime": {
     "end_time": "2024-08-09T04:37:20.475281Z",
     "start_time": "2024-08-09T04:37:20.470973Z"
    }
   },
   "source": [
    "import numpy as np\n",
    "import pandas as pd"
   ],
   "outputs": [],
   "execution_count": 6
  },
  {
   "metadata": {},
   "cell_type": "markdown",
   "source": "Loading the Dataset",
   "id": "8e19d0b05cdfcb03"
  },
  {
   "metadata": {
    "ExecuteTime": {
     "end_time": "2024-08-09T04:37:21.398976Z",
     "start_time": "2024-08-09T04:37:21.297552Z"
    }
   },
   "cell_type": "code",
   "source": [
    "df_customers = pd.read_csv('C:/Users/SIDDHANT/Documents/Studies/3rd Year/Machine Learning/Assignment 2/kaggle_dataset/AWCustomers.csv')\n",
    "df_sales = pd.read_csv('C:/Users/SIDDHANT/Documents/Studies/3rd Year/Machine Learning/Assignment 2/kaggle_dataset/AWSales.csv')"
   ],
   "id": "6d30406afe780e2d",
   "outputs": [],
   "execution_count": 7
  },
  {
   "metadata": {
    "ExecuteTime": {
     "end_time": "2024-08-09T04:37:22.069321Z",
     "start_time": "2024-08-09T04:37:22.058527Z"
    }
   },
   "cell_type": "code",
   "source": [
    "print(df_customers.head())\n",
    "print(df_sales.head())"
   ],
   "id": "12e7d7ff0f20d927",
   "outputs": [
    {
     "name": "stdout",
     "output_type": "stream",
     "text": [
      "   CustomerID Title FirstName MiddleName  LastName Suffix  \\\n",
      "0       21173   NaN      Chad          C      Yuan    NaN   \n",
      "1       13249   NaN      Ryan        NaN     Perry    NaN   \n",
      "2       29350   NaN     Julia        NaN  Thompson    NaN   \n",
      "3       13503   NaN  Theodore        NaN     Gomez    NaN   \n",
      "4       22803   NaN  Marshall          J      Shan    NaN   \n",
      "\n",
      "             AddressLine1 AddressLine2         City    StateProvinceName  ...  \\\n",
      "0      7090 C. Mount Hood          NaN   Wollongong      New South Wales  ...   \n",
      "1     3651 Willow Lake Rd          NaN      Shawnee     British Columbia  ...   \n",
      "2  1774 Tice Valley Blvd.          NaN  West Covina           California  ...   \n",
      "3         2103 Baldwin Dr          NaN    Liverpool              England  ...   \n",
      "4         Am Gallberg 234          NaN        Werne  Nordrhein-Westfalen  ...   \n",
      "\n",
      "         Education      Occupation Gender MaritalStatus HomeOwnerFlag  \\\n",
      "0        Bachelors        Clerical      M             M             1   \n",
      "1  Partial College        Clerical      M             M             1   \n",
      "2        Bachelors        Clerical      F             S             0   \n",
      "3  Partial College  Skilled Manual      M             M             1   \n",
      "4  Partial College  Skilled Manual      M             S             1   \n",
      "\n",
      "  NumberCarsOwned NumberChildrenAtHome TotalChildren  YearlyIncome  \\\n",
      "0               3                    0             1         81916   \n",
      "1               2                    1             2         81076   \n",
      "2               3                    0             0         86387   \n",
      "3               2                    1             2         61481   \n",
      "4               1                    0             0         51804   \n",
      "\n",
      "   LastUpdated  \n",
      "0   2017-03-06  \n",
      "1   2017-03-06  \n",
      "2   2017-03-06  \n",
      "3   2017-03-06  \n",
      "4   2017-03-06  \n",
      "\n",
      "[5 rows x 24 columns]\n",
      "   CustomerID  BikeBuyer  AvgMonthSpend\n",
      "0       21173          1          50.97\n",
      "1       13249          1          53.11\n",
      "2       29350          1          54.08\n",
      "3       13503          1          56.93\n",
      "4       22803          1          55.41\n"
     ]
    }
   ],
   "execution_count": 8
  },
  {
   "metadata": {
    "ExecuteTime": {
     "end_time": "2024-08-09T04:37:24.094591Z",
     "start_time": "2024-08-09T04:37:24.064235Z"
    }
   },
   "cell_type": "code",
   "source": [
    "print(df_customers.info())\n",
    "print(df_sales.info())"
   ],
   "id": "5f98b1963352c98a",
   "outputs": [
    {
     "name": "stdout",
     "output_type": "stream",
     "text": [
      "<class 'pandas.core.frame.DataFrame'>\n",
      "RangeIndex: 18361 entries, 0 to 18360\n",
      "Data columns (total 24 columns):\n",
      " #   Column                Non-Null Count  Dtype \n",
      "---  ------                --------------  ----- \n",
      " 0   CustomerID            18361 non-null  int64 \n",
      " 1   Title                 101 non-null    object\n",
      " 2   FirstName             18361 non-null  object\n",
      " 3   MiddleName            10572 non-null  object\n",
      " 4   LastName              18361 non-null  object\n",
      " 5   Suffix                3 non-null      object\n",
      " 6   AddressLine1          18361 non-null  object\n",
      " 7   AddressLine2          311 non-null    object\n",
      " 8   City                  18361 non-null  object\n",
      " 9   StateProvinceName     18361 non-null  object\n",
      " 10  CountryRegionName     18361 non-null  object\n",
      " 11  PostalCode            18361 non-null  object\n",
      " 12  PhoneNumber           18361 non-null  object\n",
      " 13  BirthDate             18361 non-null  object\n",
      " 14  Education             18361 non-null  object\n",
      " 15  Occupation            18361 non-null  object\n",
      " 16  Gender                18361 non-null  object\n",
      " 17  MaritalStatus         18361 non-null  object\n",
      " 18  HomeOwnerFlag         18361 non-null  int64 \n",
      " 19  NumberCarsOwned       18361 non-null  int64 \n",
      " 20  NumberChildrenAtHome  18361 non-null  int64 \n",
      " 21  TotalChildren         18361 non-null  int64 \n",
      " 22  YearlyIncome          18361 non-null  int64 \n",
      " 23  LastUpdated           18361 non-null  object\n",
      "dtypes: int64(6), object(18)\n",
      "memory usage: 3.4+ MB\n",
      "None\n",
      "<class 'pandas.core.frame.DataFrame'>\n",
      "RangeIndex: 18355 entries, 0 to 18354\n",
      "Data columns (total 3 columns):\n",
      " #   Column         Non-Null Count  Dtype  \n",
      "---  ------         --------------  -----  \n",
      " 0   CustomerID     18355 non-null  int64  \n",
      " 1   BikeBuyer      18355 non-null  int64  \n",
      " 2   AvgMonthSpend  18355 non-null  float64\n",
      "dtypes: float64(1), int64(2)\n",
      "memory usage: 430.3 KB\n",
      "None\n"
     ]
    }
   ],
   "execution_count": 9
  },
  {
   "metadata": {
    "ExecuteTime": {
     "end_time": "2024-08-09T04:37:26.049985Z",
     "start_time": "2024-08-09T04:37:26.015334Z"
    }
   },
   "cell_type": "code",
   "source": [
    "print(df_customers.describe())\n",
    "print(df_sales.describe())"
   ],
   "id": "a93447cec50d75ac",
   "outputs": [
    {
     "name": "stdout",
     "output_type": "stream",
     "text": [
      "         CustomerID  HomeOwnerFlag  NumberCarsOwned  NumberChildrenAtHome  \\\n",
      "count  18361.000000   18361.000000     18361.000000          18361.000000   \n",
      "mean   20241.987092       0.610588         1.270301              0.338162   \n",
      "std     5336.332731       0.487630         0.913989              0.568957   \n",
      "min    11000.000000       0.000000         0.000000              0.000000   \n",
      "25%    15621.000000       0.000000         1.000000              0.000000   \n",
      "50%    20248.000000       1.000000         1.000000              0.000000   \n",
      "75%    24863.000000       1.000000         2.000000              1.000000   \n",
      "max    29483.000000       1.000000         5.000000              3.000000   \n",
      "\n",
      "       TotalChildren   YearlyIncome  \n",
      "count   18361.000000   18361.000000  \n",
      "mean        0.850389   72754.779642  \n",
      "std         0.927315   30686.014313  \n",
      "min         0.000000   25435.000000  \n",
      "25%         0.000000   53312.000000  \n",
      "50%         0.000000   61851.000000  \n",
      "75%         2.000000   87410.000000  \n",
      "max         3.000000  139115.000000  \n",
      "         CustomerID    BikeBuyer  AvgMonthSpend\n",
      "count  18355.000000  18355.00000   18355.000000\n",
      "mean   20241.349387      0.55173      51.767207\n",
      "std     5336.539868      0.49733       3.438024\n",
      "min    11000.000000      0.00000      44.100000\n",
      "25%    15620.500000      0.00000      49.410000\n",
      "50%    20246.000000      1.00000      51.420000\n",
      "75%    24863.500000      1.00000      53.600000\n",
      "max    29483.000000      1.00000      65.290000\n"
     ]
    }
   ],
   "execution_count": 10
  },
  {
   "metadata": {
    "ExecuteTime": {
     "end_time": "2024-08-09T04:47:06.047170Z",
     "start_time": "2024-08-09T04:47:06.035331Z"
    }
   },
   "cell_type": "code",
   "source": [
    "columns_to_drop = ['Title', 'FirstName', 'MiddleName', 'LastName', 'Suffix', \n",
    "                   'AddressLine1', 'AddressLine2', 'City', 'StateProvinceName', \n",
    "                   'CountryRegionName', 'PostalCode', 'PhoneNumber', 'BirthDate', 'LastUpdated']\n",
    "\n",
    "df_customers_cleaned = df_customers.drop(columns=columns_to_drop)\n",
    "\n",
    "print(df_customers_cleaned.head())"
   ],
   "id": "e1644e58d0a96b36",
   "outputs": [
    {
     "name": "stdout",
     "output_type": "stream",
     "text": [
      "   CustomerID        Education      Occupation Gender MaritalStatus  \\\n",
      "0       21173        Bachelors        Clerical      M             M   \n",
      "1       13249  Partial College        Clerical      M             M   \n",
      "2       29350        Bachelors        Clerical      F             S   \n",
      "3       13503  Partial College  Skilled Manual      M             M   \n",
      "4       22803  Partial College  Skilled Manual      M             S   \n",
      "\n",
      "   HomeOwnerFlag  NumberCarsOwned  NumberChildrenAtHome  TotalChildren  \\\n",
      "0              1                3                     0              1   \n",
      "1              1                2                     1              2   \n",
      "2              0                3                     0              0   \n",
      "3              1                2                     1              2   \n",
      "4              1                1                     0              0   \n",
      "\n",
      "   YearlyIncome  \n",
      "0         81916  \n",
      "1         81076  \n",
      "2         86387  \n",
      "3         61481  \n",
      "4         51804  \n"
     ]
    }
   ],
   "execution_count": 11
  }
 ],
 "metadata": {
  "kernelspec": {
   "display_name": "Python 3",
   "language": "python",
   "name": "python3"
  },
  "language_info": {
   "codemirror_mode": {
    "name": "ipython",
    "version": 2
   },
   "file_extension": ".py",
   "mimetype": "text/x-python",
   "name": "python",
   "nbconvert_exporter": "python",
   "pygments_lexer": "ipython2",
   "version": "2.7.6"
  }
 },
 "nbformat": 4,
 "nbformat_minor": 5
}
